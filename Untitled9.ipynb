{
  "nbformat": 4,
  "nbformat_minor": 0,
  "metadata": {
    "colab": {
      "provenance": []
    },
    "kernelspec": {
      "name": "python3",
      "display_name": "Python 3"
    },
    "language_info": {
      "name": "python"
    }
  },
  "cells": [
    {
      "cell_type": "code",
      "source": [
        "#https://www.kaggle.com/code/geekysaint/solving-mnist-using-pytorch"
      ],
      "metadata": {
        "id": "S4YjQLW3heKy"
      },
      "execution_count": null,
      "outputs": []
    },
    {
      "cell_type": "code",
      "execution_count": null,
      "metadata": {
        "id": "vLOCfndvXQ4t"
      },
      "outputs": [],
      "source": [
        "## Imports\n",
        "import torch\n",
        "import torchvision ## Contains some utilities for working with the image data\n",
        "from torchvision.datasets import MNIST\n",
        "import matplotlib.pyplot as plt\n",
        "#%matplotlib inline\n",
        "import torchvision.transforms as transforms\n",
        "from torch.utils.data import random_split\n",
        "from torch.utils.data import DataLoader\n",
        "import torch.nn.functional as F"
      ]
    },
    {
      "cell_type": "code",
      "source": [
        "dataset = MNIST(root = 'data/', download = True)\n",
        "print(len(dataset))"
      ],
      "metadata": {
        "colab": {
          "base_uri": "https://localhost:8080/"
        },
        "id": "7bE8IhxzXfKb",
        "outputId": "c292421a-a385-4d87-bc5b-a18216693a7f"
      },
      "execution_count": null,
      "outputs": [
        {
          "output_type": "stream",
          "name": "stdout",
          "text": [
            "Downloading http://yann.lecun.com/exdb/mnist/train-images-idx3-ubyte.gz\n",
            "Downloading http://yann.lecun.com/exdb/mnist/train-images-idx3-ubyte.gz to data/MNIST/raw/train-images-idx3-ubyte.gz\n"
          ]
        },
        {
          "output_type": "stream",
          "name": "stderr",
          "text": [
            "100%|██████████| 9912422/9912422 [00:00<00:00, 84245604.40it/s]\n"
          ]
        },
        {
          "output_type": "stream",
          "name": "stdout",
          "text": [
            "Extracting data/MNIST/raw/train-images-idx3-ubyte.gz to data/MNIST/raw\n",
            "\n",
            "Downloading http://yann.lecun.com/exdb/mnist/train-labels-idx1-ubyte.gz\n",
            "Downloading http://yann.lecun.com/exdb/mnist/train-labels-idx1-ubyte.gz to data/MNIST/raw/train-labels-idx1-ubyte.gz\n"
          ]
        },
        {
          "output_type": "stream",
          "name": "stderr",
          "text": [
            "100%|██████████| 28881/28881 [00:00<00:00, 28053657.67it/s]\n"
          ]
        },
        {
          "output_type": "stream",
          "name": "stdout",
          "text": [
            "Extracting data/MNIST/raw/train-labels-idx1-ubyte.gz to data/MNIST/raw\n",
            "\n",
            "Downloading http://yann.lecun.com/exdb/mnist/t10k-images-idx3-ubyte.gz\n",
            "Downloading http://yann.lecun.com/exdb/mnist/t10k-images-idx3-ubyte.gz to data/MNIST/raw/t10k-images-idx3-ubyte.gz\n"
          ]
        },
        {
          "output_type": "stream",
          "name": "stderr",
          "text": [
            "100%|██████████| 1648877/1648877 [00:00<00:00, 21698003.34it/s]\n"
          ]
        },
        {
          "output_type": "stream",
          "name": "stdout",
          "text": [
            "Extracting data/MNIST/raw/t10k-images-idx3-ubyte.gz to data/MNIST/raw\n",
            "\n",
            "Downloading http://yann.lecun.com/exdb/mnist/t10k-labels-idx1-ubyte.gz\n",
            "Downloading http://yann.lecun.com/exdb/mnist/t10k-labels-idx1-ubyte.gz to data/MNIST/raw/t10k-labels-idx1-ubyte.gz\n"
          ]
        },
        {
          "output_type": "stream",
          "name": "stderr",
          "text": [
            "100%|██████████| 4542/4542 [00:00<00:00, 7290673.08it/s]\n"
          ]
        },
        {
          "output_type": "stream",
          "name": "stdout",
          "text": [
            "Extracting data/MNIST/raw/t10k-labels-idx1-ubyte.gz to data/MNIST/raw\n",
            "\n",
            "60000\n"
          ]
        }
      ]
    },
    {
      "cell_type": "code",
      "source": [
        "\n",
        "\n",
        "image, label = dataset[10]\n",
        "plt.imshow(image, cmap = 'gray')\n",
        "print('Label:', label)\n",
        "\n"
      ],
      "metadata": {
        "colab": {
          "base_uri": "https://localhost:8080/",
          "height": 447
        },
        "id": "5M7Iw6BZXhXN",
        "outputId": "91c2c149-ba0d-44ae-991a-4429ed1bd68b"
      },
      "execution_count": null,
      "outputs": [
        {
          "output_type": "stream",
          "name": "stdout",
          "text": [
            "Label: 3\n"
          ]
        },
        {
          "output_type": "display_data",
          "data": {
            "text/plain": [
              "<Figure size 640x480 with 1 Axes>"
            ],
            "image/png": "[encoded data removed]"
          },
          "metadata": {}
        }
      ]
    },
    {
      "cell_type": "code",
      "source": [
        "## MNIST dataset(images and labels)\n",
        "mnist_dataset = MNIST(root = 'data/', train = True, transform = transforms.ToTensor())\n",
        "print(mnist_dataset)"
      ],
      "metadata": {
        "colab": {
          "base_uri": "https://localhost:8080/"
        },
        "id": "pOSSo5cJXuYN",
        "outputId": "0d16c8e8-b36b-4155-e790-06913d48410c"
      },
      "execution_count": null,
      "outputs": [
        {
          "output_type": "stream",
          "name": "stdout",
          "text": [
            "Dataset MNIST\n",
            "    Number of datapoints: 60000\n",
            "    Root location: data/\n",
            "    Split: Train\n",
            "    StandardTransform\n",
            "Transform: ToTensor()\n"
          ]
        }
      ]
    },
    {
      "cell_type": "code",
      "source": [
        "\n",
        "\n",
        "image_tensor, label = mnist_dataset[0]\n",
        "print(image_tensor.shape, label)\n",
        "\n"
      ],
      "metadata": {
        "colab": {
          "base_uri": "https://localhost:8080/"
        },
        "id": "NullbomAXw0L",
        "outputId": "b7e72a0b-9faa-47b7-fdd0-d16da7d66f42"
      },
      "execution_count": null,
      "outputs": [
        {
          "output_type": "stream",
          "name": "stdout",
          "text": [
            "torch.Size([1, 28, 28]) 5\n"
          ]
        }
      ]
    },
    {
      "cell_type": "code",
      "source": [
        "\n",
        "print(image_tensor[:,10:15,10:15])\n",
        "print(torch.max(image_tensor), torch.min(image_tensor))\n",
        "\n"
      ],
      "metadata": {
        "colab": {
          "base_uri": "https://localhost:8080/"
        },
        "id": "cPs_bReqX12m",
        "outputId": "7334ae4c-6099-416b-c44e-46f77d147af5"
      },
      "execution_count": null,
      "outputs": [
        {
          "output_type": "stream",
          "name": "stdout",
          "text": [
            "tensor([[[0.0039, 0.6039, 0.9922, 0.3529, 0.0000],\n",
            "         [0.0000, 0.5451, 0.9922, 0.7451, 0.0078],\n",
            "         [0.0000, 0.0431, 0.7451, 0.9922, 0.2745],\n",
            "         [0.0000, 0.0000, 0.1373, 0.9451, 0.8824],\n",
            "         [0.0000, 0.0000, 0.0000, 0.3176, 0.9412]]])\n",
            "tensor(1.) tensor(0.)\n"
          ]
        }
      ]
    },
    {
      "cell_type": "code",
      "source": [
        "\n",
        "\n",
        "## Plot the image of the tensor\n",
        "plt.imshow(image_tensor[0,10:15,10:15],cmap = 'gray')\n",
        "\n"
      ],
      "metadata": {
        "colab": {
          "base_uri": "https://localhost:8080/",
          "height": 447
        },
        "id": "DTtnhQedX-CE",
        "outputId": "96c53ec4-69ae-4fbf-ec93-b16674d857d1"
      },
      "execution_count": null,
      "outputs": [
        {
          "output_type": "execute_result",
          "data": {
            "text/plain": [
              "<matplotlib.image.AxesImage at 0x7da484bf92a0>"
            ]
          },
          "metadata": {},
          "execution_count": 12
        },
        {
          "output_type": "display_data",
          "data": {
            "text/plain": [
              "<Figure size 640x480 with 1 Axes>"
            ],
            "image/png": "[encoded data removed]"
          },
          "metadata": {}
        }
      ]
    },
    {
      "cell_type": "code",
      "source": [
        "train_data, validation_data = random_split(mnist_dataset, [50000, 10000])\n",
        "## Print the length of train and validation datasets\n",
        "print(\"length of Train Datasets: \", len(train_data))\n",
        "print(\"length of Validation Datasets: \", len(validation_data))"
      ],
      "metadata": {
        "colab": {
          "base_uri": "https://localhost:8080/"
        },
        "id": "bapbRqjdYC1u",
        "outputId": "8bed8e3e-a6de-4e58-a5e7-d93fae103686"
      },
      "execution_count": null,
      "outputs": [
        {
          "output_type": "stream",
          "name": "stdout",
          "text": [
            "length of Train Datasets:  50000\n",
            "length of Validation Datasets:  10000\n"
          ]
        }
      ]
    },
    {
      "cell_type": "code",
      "source": [
        "\n",
        "\n",
        "batch_size = 128\n",
        "train_loader = DataLoader(train_data, batch_size, shuffle = True)\n",
        "val_loader = DataLoader(validation_data, batch_size, shuffle = False)\n",
        "\n"
      ],
      "metadata": {
        "id": "ygWq_hwEYKSR"
      },
      "execution_count": null,
      "outputs": []
    },
    {
      "cell_type": "code",
      "source": [
        "import torch.nn as nn\n",
        "\n",
        "input_size = 28 * 28\n",
        "num_classes = 10\n",
        "\n",
        "## Logistic regression model\n",
        "model = nn.Linear(input_size, num_classes)\n",
        "print(model.weight.shape)\n",
        "print(model.weight)\n",
        "print(model.bias.shape)\n",
        "print(model.bias)"
      ],
      "metadata": {
        "colab": {
          "base_uri": "https://localhost:8080/"
        },
        "id": "4xRvdvKKYMoF",
        "outputId": "365470dc-1b0d-4d7c-c430-c0305b2a0d86"
      },
      "execution_count": null,
      "outputs": [
        {
          "output_type": "stream",
          "name": "stdout",
          "text": [
            "torch.Size([10, 784])\n",
            "Parameter containing:\n",
            "tensor([[-1.5131e-03, -2.2313e-02, -1.7041e-02,  ..., -1.1283e-02,\n",
            "         -2.0430e-02,  2.5145e-02],\n",
            "        [ 2.5949e-02,  2.9561e-02,  7.2342e-03,  ..., -1.7366e-02,\n",
            "         -3.1286e-02, -2.2952e-02],\n",
            "        [-5.6965e-03,  1.8293e-02, -1.0546e-02,  ..., -2.1826e-02,\n",
            "         -3.4790e-02, -5.0150e-03],\n",
            "        ...,\n",
            "        [ 1.1375e-02,  6.4641e-05,  7.4461e-03,  ...,  1.5926e-02,\n",
            "          1.3121e-02,  1.5510e-02],\n",
            "        [-3.1087e-02,  1.3012e-03, -2.2782e-02,  ..., -2.2309e-02,\n",
            "          1.5210e-03,  6.8122e-03],\n",
            "        [-2.7449e-02,  1.9859e-02, -7.1058e-04,  ..., -3.8717e-03,\n",
            "         -5.2111e-03, -1.3132e-02]], requires_grad=True)\n",
            "torch.Size([10])\n",
            "Parameter containing:\n",
            "tensor([ 0.0099, -0.0317, -0.0108,  0.0215,  0.0327, -0.0184,  0.0052, -0.0334,\n",
            "         0.0314,  0.0158], requires_grad=True)\n"
          ]
        }
      ]
    },
    {
      "cell_type": "code",
      "source": [
        "for images, labels in train_loader:\n",
        "    print(labels)\n",
        "    print(images.shape)\n",
        "    outputs = model(images)\n",
        "    break"
      ],
      "metadata": {
        "colab": {
          "base_uri": "https://localhost:8080/",
          "height": 514
        },
        "id": "bdJf8oq3YRog",
        "outputId": "8135b4d6-f5d0-4b8a-a20f-09ea3e566b84"
      },
      "execution_count": null,
      "outputs": [
        {
          "output_type": "stream",
          "name": "stdout",
          "text": [
            "tensor([8, 5, 4, 1, 4, 2, 2, 4, 9, 5, 7, 1, 3, 5, 9, 5, 1, 4, 7, 2, 9, 3, 1, 9,\n",
            "        6, 9, 1, 8, 6, 6, 8, 6, 4, 9, 3, 5, 2, 1, 3, 8, 2, 1, 0, 0, 5, 2, 9, 4,\n",
            "        5, 8, 2, 4, 9, 2, 7, 3, 2, 8, 4, 2, 1, 1, 8, 3, 9, 4, 7, 9, 5, 6, 0, 5,\n",
            "        0, 9, 8, 0, 8, 5, 7, 1, 8, 7, 4, 6, 6, 7, 3, 7, 5, 8, 3, 4, 4, 5, 1, 0,\n",
            "        4, 3, 7, 3, 8, 7, 1, 0, 0, 5, 9, 9, 3, 4, 7, 6, 9, 1, 9, 0, 2, 1, 7, 6,\n",
            "        1, 3, 1, 6, 2, 2, 2, 5])\n",
            "torch.Size([128, 1, 28, 28])\n"
          ]
        },
        {
          "output_type": "error",
          "ename": "RuntimeError",
          "evalue": "ignored",
          "traceback": [
            "\u001b[0;31m---------------------------------------------------------------------------\u001b[0m",
            "\u001b[0;31mRuntimeError\u001b[0m                              Traceback (most recent call last)",
            "\u001b[0;32m<ipython-input-16-72eddc737460>\u001b[0m in \u001b[0;36m<cell line: 1>\u001b[0;34m()\u001b[0m\n\u001b[1;32m      2\u001b[0m     \u001b[0mprint\u001b[0m\u001b[0;34m(\u001b[0m\u001b[0mlabels\u001b[0m\u001b[0;34m)\u001b[0m\u001b[0;34m\u001b[0m\u001b[0;34m\u001b[0m\u001b[0m\n\u001b[1;32m      3\u001b[0m     \u001b[0mprint\u001b[0m\u001b[0;34m(\u001b[0m\u001b[0mimages\u001b[0m\u001b[0;34m.\u001b[0m\u001b[0mshape\u001b[0m\u001b[0;34m)\u001b[0m\u001b[0;34m\u001b[0m\u001b[0;34m\u001b[0m\u001b[0m\n\u001b[0;32m----> 4\u001b[0;31m     \u001b[0moutputs\u001b[0m \u001b[0;34m=\u001b[0m \u001b[0mmodel\u001b[0m\u001b[0;34m(\u001b[0m\u001b[0mimages\u001b[0m\u001b[0;34m)\u001b[0m\u001b[0;34m\u001b[0m\u001b[0;34m\u001b[0m\u001b[0m\n\u001b[0m\u001b[1;32m      5\u001b[0m     \u001b[0;32mbreak\u001b[0m\u001b[0;34m\u001b[0m\u001b[0;34m\u001b[0m\u001b[0m\n",
            "\u001b[0;32m/usr/local/lib/python3.10/dist-packages/torch/nn/modules/module.py\u001b[0m in \u001b[0;36m_wrapped_call_impl\u001b[0;34m(self, *args, **kwargs)\u001b[0m\n\u001b[1;32m   1516\u001b[0m             \u001b[0;32mreturn\u001b[0m \u001b[0mself\u001b[0m\u001b[0;34m.\u001b[0m\u001b[0m_compiled_call_impl\u001b[0m\u001b[0;34m(\u001b[0m\u001b[0;34m*\u001b[0m\u001b[0margs\u001b[0m\u001b[0;34m,\u001b[0m \u001b[0;34m**\u001b[0m\u001b[0mkwargs\u001b[0m\u001b[0;34m)\u001b[0m  \u001b[0;31m# type: ignore[misc]\u001b[0m\u001b[0;34m\u001b[0m\u001b[0;34m\u001b[0m\u001b[0m\n\u001b[1;32m   1517\u001b[0m         \u001b[0;32melse\u001b[0m\u001b[0;34m:\u001b[0m\u001b[0;34m\u001b[0m\u001b[0;34m\u001b[0m\u001b[0m\n\u001b[0;32m-> 1518\u001b[0;31m             \u001b[0;32mreturn\u001b[0m \u001b[0mself\u001b[0m\u001b[0;34m.\u001b[0m\u001b[0m_call_impl\u001b[0m\u001b[0;34m(\u001b[0m\u001b[0;34m*\u001b[0m\u001b[0margs\u001b[0m\u001b[0;34m,\u001b[0m \u001b[0;34m**\u001b[0m\u001b[0mkwargs\u001b[0m\u001b[0;34m)\u001b[0m\u001b[0;34m\u001b[0m\u001b[0;34m\u001b[0m\u001b[0m\n\u001b[0m\u001b[1;32m   1519\u001b[0m \u001b[0;34m\u001b[0m\u001b[0m\n\u001b[1;32m   1520\u001b[0m     \u001b[0;32mdef\u001b[0m \u001b[0m_call_impl\u001b[0m\u001b[0;34m(\u001b[0m\u001b[0mself\u001b[0m\u001b[0;34m,\u001b[0m \u001b[0;34m*\u001b[0m\u001b[0margs\u001b[0m\u001b[0;34m,\u001b[0m \u001b[0;34m**\u001b[0m\u001b[0mkwargs\u001b[0m\u001b[0;34m)\u001b[0m\u001b[0;34m:\u001b[0m\u001b[0;34m\u001b[0m\u001b[0;34m\u001b[0m\u001b[0m\n",
            "\u001b[0;32m/usr/local/lib/python3.10/dist-packages/torch/nn/modules/module.py\u001b[0m in \u001b[0;36m_call_impl\u001b[0;34m(self, *args, **kwargs)\u001b[0m\n\u001b[1;32m   1525\u001b[0m                 \u001b[0;32mor\u001b[0m \u001b[0m_global_backward_pre_hooks\u001b[0m \u001b[0;32mor\u001b[0m \u001b[0m_global_backward_hooks\u001b[0m\u001b[0;34m\u001b[0m\u001b[0;34m\u001b[0m\u001b[0m\n\u001b[1;32m   1526\u001b[0m                 or _global_forward_hooks or _global_forward_pre_hooks):\n\u001b[0;32m-> 1527\u001b[0;31m             \u001b[0;32mreturn\u001b[0m \u001b[0mforward_call\u001b[0m\u001b[0;34m(\u001b[0m\u001b[0;34m*\u001b[0m\u001b[0margs\u001b[0m\u001b[0;34m,\u001b[0m \u001b[0;34m**\u001b[0m\u001b[0mkwargs\u001b[0m\u001b[0;34m)\u001b[0m\u001b[0;34m\u001b[0m\u001b[0;34m\u001b[0m\u001b[0m\n\u001b[0m\u001b[1;32m   1528\u001b[0m \u001b[0;34m\u001b[0m\u001b[0m\n\u001b[1;32m   1529\u001b[0m         \u001b[0;32mtry\u001b[0m\u001b[0;34m:\u001b[0m\u001b[0;34m\u001b[0m\u001b[0;34m\u001b[0m\u001b[0m\n",
            "\u001b[0;32m/usr/local/lib/python3.10/dist-packages/torch/nn/modules/linear.py\u001b[0m in \u001b[0;36mforward\u001b[0;34m(self, input)\u001b[0m\n\u001b[1;32m    112\u001b[0m \u001b[0;34m\u001b[0m\u001b[0m\n\u001b[1;32m    113\u001b[0m     \u001b[0;32mdef\u001b[0m \u001b[0mforward\u001b[0m\u001b[0;34m(\u001b[0m\u001b[0mself\u001b[0m\u001b[0;34m,\u001b[0m \u001b[0minput\u001b[0m\u001b[0;34m:\u001b[0m \u001b[0mTensor\u001b[0m\u001b[0;34m)\u001b[0m \u001b[0;34m->\u001b[0m \u001b[0mTensor\u001b[0m\u001b[0;34m:\u001b[0m\u001b[0;34m\u001b[0m\u001b[0;34m\u001b[0m\u001b[0m\n\u001b[0;32m--> 114\u001b[0;31m         \u001b[0;32mreturn\u001b[0m \u001b[0mF\u001b[0m\u001b[0;34m.\u001b[0m\u001b[0mlinear\u001b[0m\u001b[0;34m(\u001b[0m\u001b[0minput\u001b[0m\u001b[0;34m,\u001b[0m \u001b[0mself\u001b[0m\u001b[0;34m.\u001b[0m\u001b[0mweight\u001b[0m\u001b[0;34m,\u001b[0m \u001b[0mself\u001b[0m\u001b[0;34m.\u001b[0m\u001b[0mbias\u001b[0m\u001b[0;34m)\u001b[0m\u001b[0;34m\u001b[0m\u001b[0;34m\u001b[0m\u001b[0m\n\u001b[0m\u001b[1;32m    115\u001b[0m \u001b[0;34m\u001b[0m\u001b[0m\n\u001b[1;32m    116\u001b[0m     \u001b[0;32mdef\u001b[0m \u001b[0mextra_repr\u001b[0m\u001b[0;34m(\u001b[0m\u001b[0mself\u001b[0m\u001b[0;34m)\u001b[0m \u001b[0;34m->\u001b[0m \u001b[0mstr\u001b[0m\u001b[0;34m:\u001b[0m\u001b[0;34m\u001b[0m\u001b[0;34m\u001b[0m\u001b[0m\n",
            "\u001b[0;31mRuntimeError\u001b[0m: mat1 and mat2 shapes cannot be multiplied (3584x28 and 784x10)"
          ]
        }
      ]
    },
    {
      "cell_type": "code",
      "source": [
        "class MnistModel(nn.Module):\n",
        "    def __init__(self):\n",
        "        super().__init__()\n",
        "        self.linear = nn.Linear(input_size, num_classes)\n",
        "\n",
        "    def forward(self, xb):\n",
        "        xb = xb.reshape(-1, 784)\n",
        "        print(xb)\n",
        "        out = self.linear(xb)\n",
        "        print(out)\n",
        "        return(out)\n",
        "\n",
        "model = MnistModel()\n",
        "print(model.linear.weight.shape, model.linear.bias.shape)\n",
        "list(model.parameters())\n"
      ],
      "metadata": {
        "colab": {
          "base_uri": "https://localhost:8080/"
        },
        "id": "mTaCJXDfgNnu",
        "outputId": "03e8e1f8-c8d2-4530-97b1-cd981fa48029"
      },
      "execution_count": null,
      "outputs": [
        {
          "output_type": "stream",
          "name": "stdout",
          "text": [
            "torch.Size([10, 784]) torch.Size([10])\n"
          ]
        },
        {
          "output_type": "execute_result",
          "data": {
            "text/plain": [
              "[Parameter containing:\n",
              " tensor([[-0.0176, -0.0152,  0.0345,  ...,  0.0347,  0.0220, -0.0351],\n",
              "         [-0.0137,  0.0102,  0.0153,  ..., -0.0154,  0.0232, -0.0203],\n",
              "         [ 0.0334,  0.0062,  0.0157,  ..., -0.0323, -0.0302,  0.0192],\n",
              "         ...,\n",
              "         [-0.0161,  0.0125,  0.0124,  ...,  0.0223, -0.0338,  0.0265],\n",
              "         [ 0.0166, -0.0007,  0.0035,  ...,  0.0206, -0.0041,  0.0335],\n",
              "         [ 0.0044, -0.0079, -0.0189,  ...,  0.0165,  0.0046,  0.0193]],\n",
              "        requires_grad=True),\n",
              " Parameter containing:\n",
              " tensor([-0.0352,  0.0237, -0.0238,  0.0280, -0.0353, -0.0342, -0.0284,  0.0160,\n",
              "          0.0334,  0.0041], requires_grad=True)]"
            ]
          },
          "metadata": {},
          "execution_count": 18
        }
      ]
    },
    {
      "cell_type": "code",
      "source": [
        "for images, labels in train_loader:\n",
        "    outputs = model(images)\n",
        "    break\n",
        "\n",
        "print('outputs shape: ', outputs.shape)\n",
        "print('Sample outputs: \\n', outputs[:2].data)"
      ],
      "metadata": {
        "colab": {
          "base_uri": "https://localhost:8080/"
        },
        "id": "DNvUKN7ggSWv",
        "outputId": "a4db1b89-3e9d-4222-e3a2-aa96d4f3d6bf"
      },
      "execution_count": null,
      "outputs": [
        {
          "output_type": "stream",
          "name": "stdout",
          "text": [
            "tensor([[0., 0., 0.,  ..., 0., 0., 0.],\n",
            "        [0., 0., 0.,  ..., 0., 0., 0.],\n",
            "        [0., 0., 0.,  ..., 0., 0., 0.],\n",
            "        ...,\n",
            "        [0., 0., 0.,  ..., 0., 0., 0.],\n",
            "        [0., 0., 0.,  ..., 0., 0., 0.],\n",
            "        [0., 0., 0.,  ..., 0., 0., 0.]])\n",
            "tensor([[-0.0344,  0.0621,  0.1932,  ...,  0.1653,  0.1635,  0.2385],\n",
            "        [-0.0217,  0.1364,  0.2830,  ...,  0.0811, -0.0451,  0.1352],\n",
            "        [-0.0642, -0.0643,  0.1263,  ..., -0.1088, -0.0777, -0.0169],\n",
            "        ...,\n",
            "        [-0.0916,  0.0262,  0.2051,  ..., -0.1912,  0.1120,  0.2597],\n",
            "        [ 0.1021, -0.0173, -0.0615,  ..., -0.1511, -0.2316,  0.4190],\n",
            "        [ 0.2410,  0.3454,  0.0935,  ...,  0.1133, -0.2113,  0.4640]],\n",
            "       grad_fn=<AddmmBackward0>)\n",
            "outputs shape:  torch.Size([128, 10])\n",
            "Sample outputs: \n",
            " tensor([[-0.0344,  0.0621,  0.1932, -0.1075,  0.1291,  0.3118,  0.0160,  0.1653,\n",
            "          0.1635,  0.2385],\n",
            "        [-0.0217,  0.1364,  0.2830,  0.1688,  0.3161,  0.0975, -0.2097,  0.0811,\n",
            "         -0.0451,  0.1352]])\n"
          ]
        }
      ]
    },
    {
      "cell_type": "code",
      "source": [
        "\n",
        "\n",
        "## Apply softmax for each output row\n",
        "probs = F.softmax(outputs, dim = 1)\n",
        "\n",
        "## chaecking at sample probabilities\n",
        "print(\"Sample probabilities:\\n\", probs[:2].data)\n",
        "\n",
        "print(\"\\n\")\n",
        "## Add up the probabilities of an output row\n",
        "print(\"Sum: \", torch.sum(probs[0]).item())\n",
        "max_probs, preds = torch.max(probs, dim = 1)\n",
        "print(\"\\n\")\n",
        "print(preds)\n",
        "print(\"\\n\")\n",
        "print(max_probs)\n",
        "\n"
      ],
      "metadata": {
        "colab": {
          "base_uri": "https://localhost:8080/"
        },
        "id": "fHVOaBeTgU-g",
        "outputId": "ac52086b-35ad-41dd-ef37-43405dcb7106"
      },
      "execution_count": null,
      "outputs": [
        {
          "output_type": "stream",
          "name": "stdout",
          "text": [
            "Sample probabilities:\n",
            " tensor([[0.0856, 0.0943, 0.1075, 0.0796, 0.1008, 0.1210, 0.0900, 0.1045, 0.1043,\n",
            "         0.1124],\n",
            "        [0.0881, 0.1032, 0.1195, 0.1066, 0.1235, 0.0993, 0.0730, 0.0977, 0.0861,\n",
            "         0.1031]])\n",
            "\n",
            "\n",
            "Sum:  0.9999999403953552\n",
            "\n",
            "\n",
            "tensor([5, 4, 4, 9, 9, 9, 3, 2, 9, 1, 2, 8, 9, 4, 9, 9, 9, 9, 9, 9, 9, 9, 9, 9,\n",
            "        1, 9, 9, 1, 9, 2, 9, 9, 9, 9, 9, 8, 9, 4, 9, 9, 4, 2, 9, 1, 9, 9, 9, 9,\n",
            "        9, 1, 9, 0, 9, 9, 4, 9, 9, 9, 3, 3, 9, 9, 9, 2, 9, 7, 9, 9, 0, 9, 3, 9,\n",
            "        8, 2, 9, 9, 5, 0, 9, 9, 9, 9, 5, 9, 9, 9, 9, 4, 3, 9, 9, 9, 9, 3, 9, 9,\n",
            "        9, 9, 9, 1, 9, 9, 3, 9, 4, 9, 9, 9, 9, 9, 9, 8, 9, 2, 9, 9, 9, 9, 8, 9,\n",
            "        4, 9, 9, 8, 9, 4, 9, 9])\n",
            "\n",
            "\n",
            "tensor([0.1210, 0.1235, 0.1238, 0.1652, 0.1169, 0.1199, 0.1173, 0.1120, 0.1295,\n",
            "        0.1200, 0.1177, 0.1122, 0.1227, 0.1305, 0.1556, 0.1335, 0.1354, 0.1380,\n",
            "        0.1230, 0.1410, 0.1612, 0.1396, 0.1625, 0.1241, 0.1359, 0.1352, 0.1514,\n",
            "        0.1182, 0.1157, 0.1206, 0.1583, 0.1326, 0.1376, 0.1555, 0.1262, 0.1120,\n",
            "        0.1314, 0.1179, 0.1364, 0.1113, 0.1258, 0.1190, 0.1426, 0.1177, 0.1916,\n",
            "        0.1657, 0.1409, 0.1245, 0.1307, 0.1314, 0.1878, 0.1204, 0.1312, 0.1125,\n",
            "        0.1230, 0.1286, 0.1364, 0.1313, 0.1164, 0.1220, 0.1271, 0.1333, 0.1231,\n",
            "        0.1111, 0.1389, 0.1176, 0.1721, 0.1527, 0.1339, 0.1167, 0.1257, 0.1431,\n",
            "        0.1283, 0.1158, 0.1536, 0.1249, 0.1191, 0.1286, 0.1416, 0.1442, 0.1414,\n",
            "        0.1363, 0.1265, 0.1739, 0.1285, 0.1348, 0.1499, 0.1218, 0.1198, 0.1322,\n",
            "        0.1414, 0.1508, 0.1294, 0.1113, 0.1292, 0.1578, 0.1456, 0.1224, 0.1339,\n",
            "        0.1210, 0.1258, 0.1877, 0.1268, 0.1360, 0.1287, 0.1457, 0.1219, 0.1187,\n",
            "        0.1347, 0.1639, 0.1920, 0.1155, 0.1388, 0.1305, 0.1423, 0.1241, 0.1370,\n",
            "        0.1708, 0.1206, 0.1696, 0.1284, 0.1231, 0.1584, 0.1298, 0.1258, 0.1204,\n",
            "        0.1414, 0.1283], grad_fn=<MaxBackward0>)\n"
          ]
        }
      ]
    },
    {
      "cell_type": "code",
      "source": [
        "labels"
      ],
      "metadata": {
        "colab": {
          "base_uri": "https://localhost:8080/"
        },
        "id": "2Q89L0nsgbJg",
        "outputId": "2ab36859-1b2b-4d55-8c9e-8e46825b8f45"
      },
      "execution_count": null,
      "outputs": [
        {
          "output_type": "execute_result",
          "data": {
            "text/plain": [
              "tensor([8, 9, 4, 3, 1, 5, 1, 7, 8, 5, 7, 9, 3, 1, 9, 2, 0, 3, 6, 9, 0, 6, 3, 3,\n",
              "        7, 6, 5, 5, 8, 0, 0, 5, 5, 4, 7, 3, 8, 1, 6, 3, 7, 4, 5, 5, 3, 8, 8, 4,\n",
              "        8, 5, 2, 5, 6, 1, 7, 0, 8, 3, 8, 1, 4, 2, 1, 9, 7, 9, 2, 4, 9, 3, 8, 9,\n",
              "        0, 3, 0, 3, 5, 4, 2, 6, 2, 8, 5, 2, 3, 6, 6, 3, 1, 3, 3, 2, 0, 1, 2, 3,\n",
              "        3, 4, 0, 7, 6, 9, 7, 4, 4, 9, 7, 9, 2, 9, 3, 9, 7, 5, 6, 2, 3, 3, 6, 6,\n",
              "        5, 4, 3, 3, 4, 8, 3, 5])"
            ]
          },
          "metadata": {},
          "execution_count": 21
        }
      ]
    },
    {
      "cell_type": "code",
      "source": [
        "def accuracy(outputs, labels):\n",
        "    _, preds = torch.max(outputs, dim = 1)\n",
        "    return(torch.tensor(torch.sum(preds == labels).item()/ len(preds)))\n",
        "\n",
        "print(\"Accuracy: \",accuracy(outputs, labels))\n",
        "print(\"\\n\")\n",
        "loss_fn = F.cross_entropy\n",
        "print(\"Loss Function: \",loss_fn)\n",
        "print(\"\\n\")\n",
        "## Loss for the current batch\n",
        "loss = loss_fn(outputs, labels)\n",
        "print(loss)"
      ],
      "metadata": {
        "colab": {
          "base_uri": "https://localhost:8080/"
        },
        "id": "dv35UfPMggNN",
        "outputId": "262b7dec-6676-4241-afae-03c012b14809"
      },
      "execution_count": null,
      "outputs": [
        {
          "output_type": "stream",
          "name": "stdout",
          "text": [
            "Accuracy:  tensor(0.0859)\n",
            "\n",
            "\n",
            "Loss Function:  <function cross_entropy at 0x7da529c98550>\n",
            "\n",
            "\n",
            "tensor(2.2881, grad_fn=<NllLossBackward0>)\n"
          ]
        }
      ]
    },
    {
      "cell_type": "code",
      "source": [
        "class MnistModel(nn.Module):\n",
        "    def __init__(self):\n",
        "        super().__init__()\n",
        "        self.linear = nn.Linear(input_size, num_classes)\n",
        "\n",
        "    def forward(self, xb):\n",
        "        xb = xb.reshape(-1, 784)\n",
        "        out = self.linear(xb)\n",
        "        return(out)\n",
        "\n",
        "    def training_step(self, batch):\n",
        "        images, labels = batch\n",
        "        out = self(images) ## Generate predictions\n",
        "        loss = F.cross_entropy(out, labels) ## Calculate the loss\n",
        "        return(loss)\n",
        "\n",
        "    def validation_step(self, batch):\n",
        "        images, labels = batch\n",
        "        out = self(images)\n",
        "        loss = F.cross_entropy(out, labels)\n",
        "        acc = accuracy(out, labels)\n",
        "        return({'val_loss':loss, 'val_acc': acc})\n",
        "\n",
        "    def validation_epoch_end(self, outputs):\n",
        "        batch_losses = [x['val_loss'] for x in outputs]\n",
        "        epoch_loss = torch.stack(batch_losses).mean()\n",
        "        batch_accs = [x['val_acc'] for x in outputs]\n",
        "        epoch_acc = torch.stack(batch_accs).mean()\n",
        "        return({'val_loss': epoch_loss.item(), 'val_acc' : epoch_acc.item()})\n",
        "\n",
        "    def epoch_end(self, epoch,result):\n",
        "        print(\"Epoch [{}], val_loss: {:.4f}, val_acc: {:.4f}\".format(epoch, result['val_loss'], result['val_acc']))\n",
        "\n",
        "\n",
        "model = MnistModel()"
      ],
      "metadata": {
        "id": "ldwzf9v4g9ed"
      },
      "execution_count": null,
      "outputs": []
    },
    {
      "cell_type": "code",
      "source": [
        "def evaluate(model, val_loader):\n",
        "    outputs = [model.validation_step(batch) for batch in val_loader]\n",
        "    return(model.validation_epoch_end(outputs))\n",
        "\n",
        "def fit(epochs, lr, model, train_loader, val_loader, opt_func = torch.optim.SGD):\n",
        "    history = []\n",
        "    optimizer = opt_func(model.parameters(), lr)\n",
        "    for epoch in range(epochs):\n",
        "\n",
        "        ## Training Phas\n",
        "        for batch in train_loader:\n",
        "            loss = model.training_step(batch)\n",
        "            loss.backward()\n",
        "            optimizer.step()\n",
        "            optimizer.zero_grad()\n",
        "\n",
        "        ## Validation phase\n",
        "        result = evaluate(model, val_loader)\n",
        "        model.epoch_end(epoch, result)\n",
        "        history.append(result)\n",
        "    return(history)"
      ],
      "metadata": {
        "id": "hzanUrj-hAf9"
      },
      "execution_count": null,
      "outputs": []
    },
    {
      "cell_type": "code",
      "source": [
        "result0 = evaluate(model, val_loader)\n",
        "result0"
      ],
      "metadata": {
        "colab": {
          "base_uri": "https://localhost:8080/"
        },
        "id": "c8qAAiCOhLNw",
        "outputId": "db657f8e-d285-44d6-9abf-f6d99466e0c8"
      },
      "execution_count": null,
      "outputs": [
        {
          "output_type": "execute_result",
          "data": {
            "text/plain": [
              "{'val_loss': 2.2949304580688477, 'val_acc': 0.1237144023180008}"
            ]
          },
          "metadata": {},
          "execution_count": 25
        }
      ]
    },
    {
      "cell_type": "code",
      "source": [
        "\n",
        "\n",
        "history1 = fit(5, 0.001, model, train_loader, val_loader)\n",
        "\n"
      ],
      "metadata": {
        "colab": {
          "base_uri": "https://localhost:8080/"
        },
        "id": "W9HRV2P0i50j",
        "outputId": "c33d6218-1b38-4367-f7d5-988866c727f5"
      },
      "execution_count": null,
      "outputs": [
        {
          "output_type": "stream",
          "name": "stdout",
          "text": [
            "Epoch [0], val_loss: 1.9351, val_acc: 0.6175\n",
            "Epoch [1], val_loss: 1.6698, val_acc: 0.7290\n",
            "Epoch [2], val_loss: 1.4720, val_acc: 0.7644\n",
            "Epoch [3], val_loss: 1.3229, val_acc: 0.7820\n",
            "Epoch [4], val_loss: 1.2083, val_acc: 0.7957\n"
          ]
        }
      ]
    },
    {
      "cell_type": "code",
      "source": [
        "\n",
        "\n",
        "history2 = fit(5, 0.001, model, train_loader, val_loader)\n",
        "\n"
      ],
      "metadata": {
        "colab": {
          "base_uri": "https://localhost:8080/"
        },
        "id": "6531qifujLfd",
        "outputId": "c6526806-4452-4075-bcd9-23a9370ae5c3"
      },
      "execution_count": null,
      "outputs": [
        {
          "output_type": "stream",
          "name": "stdout",
          "text": [
            "Epoch [0], val_loss: 1.1183, val_acc: 0.8058\n",
            "Epoch [1], val_loss: 1.0459, val_acc: 0.8136\n",
            "Epoch [2], val_loss: 0.9866, val_acc: 0.8191\n",
            "Epoch [3], val_loss: 0.9372, val_acc: 0.8244\n",
            "Epoch [4], val_loss: 0.8953, val_acc: 0.8272\n"
          ]
        }
      ]
    },
    {
      "cell_type": "code",
      "source": [
        "history3 = fit(5, 0.001, model, train_loader, val_loader)"
      ],
      "metadata": {
        "colab": {
          "base_uri": "https://localhost:8080/"
        },
        "id": "nRrqijDSjg9m",
        "outputId": "90fb07b0-0726-43f1-e83c-05c7d83f11e0"
      },
      "execution_count": null,
      "outputs": [
        {
          "output_type": "stream",
          "name": "stdout",
          "text": [
            "Epoch [0], val_loss: 0.8595, val_acc: 0.8316\n",
            "Epoch [1], val_loss: 0.8283, val_acc: 0.8337\n",
            "Epoch [2], val_loss: 0.8011, val_acc: 0.8372\n",
            "Epoch [3], val_loss: 0.7770, val_acc: 0.8394\n",
            "Epoch [4], val_loss: 0.7555, val_acc: 0.8422\n"
          ]
        }
      ]
    },
    {
      "cell_type": "code",
      "source": [
        "history4 = fit(5, 0.001, model, train_loader, val_loader)"
      ],
      "metadata": {
        "colab": {
          "base_uri": "https://localhost:8080/"
        },
        "id": "_0cI54XcjvG2",
        "outputId": "04c67467-df2d-46dc-ae2e-918401646776"
      },
      "execution_count": null,
      "outputs": [
        {
          "output_type": "stream",
          "name": "stdout",
          "text": [
            "Epoch [0], val_loss: 0.7362, val_acc: 0.8437\n",
            "Epoch [1], val_loss: 0.7187, val_acc: 0.8468\n",
            "Epoch [2], val_loss: 0.7029, val_acc: 0.8495\n",
            "Epoch [3], val_loss: 0.6884, val_acc: 0.8510\n",
            "Epoch [4], val_loss: 0.6752, val_acc: 0.8525\n"
          ]
        }
      ]
    },
    {
      "cell_type": "code",
      "source": [
        "## Replace these values with your result\n",
        "history = [result0] + history1 + history2 + history3 + history4\n",
        "accuracies = [result['val_acc'] for result in history]\n",
        "plt.plot(accuracies, '-x')\n",
        "plt.xlabel('epoch')\n",
        "plt.ylabel('accuracy')\n",
        "plt.title('Accuracy Vs. No. of epochs')"
      ],
      "metadata": {
        "colab": {
          "base_uri": "https://localhost:8080/",
          "height": 489
        },
        "id": "umz8UDOCj0ge",
        "outputId": "fc1f4aff-0625-4bdf-f122-c2ed3d6d91d4"
      },
      "execution_count": null,
      "outputs": [
        {
          "output_type": "execute_result",
          "data": {
            "text/plain": [
              "Text(0.5, 1.0, 'Accuracy Vs. No. of epochs')"
            ]
          },
          "metadata": {},
          "execution_count": 30
        },
        {
          "output_type": "display_data",
          "data": {
            "text/plain": [
              "<Figure size 640x480 with 1 Axes>"
            ],
            "image/png": "[encoded data removed]"
          },
          "metadata": {}
        }
      ]
    },
    {
      "cell_type": "code",
      "source": [
        "\n",
        "\n",
        "## Define the test dataset\n",
        "test_dataset = MNIST(root = 'data/', train = False, transform = transforms.ToTensor())\n",
        "\n"
      ],
      "metadata": {
        "id": "aGzCF_SRj81G"
      },
      "execution_count": null,
      "outputs": []
    },
    {
      "cell_type": "code",
      "source": [
        "img, label = test_dataset[0]\n",
        "plt.imshow(img[0], cmap = 'gray')\n",
        "print(\"shape: \", img.shape)\n",
        "print('Label: ', label)"
      ],
      "metadata": {
        "colab": {
          "base_uri": "https://localhost:8080/",
          "height": 465
        },
        "id": "B1M7IduckBrV",
        "outputId": "f13e4e7c-bf9d-4685-ef7f-1ae6fc7c77fd"
      },
      "execution_count": null,
      "outputs": [
        {
          "output_type": "stream",
          "name": "stdout",
          "text": [
            "shape:  torch.Size([1, 28, 28])\n",
            "Label:  7\n"
          ]
        },
        {
          "output_type": "display_data",
          "data": {
            "text/plain": [
              "<Figure size 640x480 with 1 Axes>"
            ],
            "image/png": "[encoded data removed]"
          },
          "metadata": {}
        }
      ]
    },
    {
      "cell_type": "code",
      "source": [
        "print(img.unsqueeze(0).shape)\n",
        "print(img.shape)"
      ],
      "metadata": {
        "colab": {
          "base_uri": "https://localhost:8080/"
        },
        "id": "pqyBII_akIs-",
        "outputId": "075c6f2d-f4f0-4e74-f0f8-6b224700f274"
      },
      "execution_count": null,
      "outputs": [
        {
          "output_type": "stream",
          "name": "stdout",
          "text": [
            "torch.Size([1, 1, 28, 28])\n",
            "torch.Size([1, 28, 28])\n"
          ]
        }
      ]
    },
    {
      "cell_type": "code",
      "source": [
        "def predict_image(img, model):\n",
        "    xb = img.unsqueeze(0)\n",
        "    yb = model(xb)\n",
        "    _, preds = torch.max(yb, dim = 1)\n",
        "    return(preds[0].item())"
      ],
      "metadata": {
        "id": "lDfRlgNlkMp0"
      },
      "execution_count": null,
      "outputs": []
    },
    {
      "cell_type": "code",
      "source": [
        "img, label = test_dataset[0]\n",
        "plt.imshow(img[0], cmap = 'gray')\n",
        "print('Label:', label, ', Predicted :', predict_image(img, model))"
      ],
      "metadata": {
        "colab": {
          "base_uri": "https://localhost:8080/",
          "height": 447
        },
        "id": "XrQWtTEmkTPU",
        "outputId": "052181dd-c35f-48d8-fba1-66eca9e4f6b2"
      },
      "execution_count": null,
      "outputs": [
        {
          "output_type": "stream",
          "name": "stdout",
          "text": [
            "Label: 7 , Predicted : 7\n"
          ]
        },
        {
          "output_type": "display_data",
          "data": {
            "text/plain": [
              "<Figure size 640x480 with 1 Axes>"
            ],
            "image/png": "[encoded data removed]"
          },
          "metadata": {}
        }
      ]
    },
    {
      "cell_type": "code",
      "source": [
        "\n",
        "\n",
        "img, label = test_dataset[9]\n",
        "plt.imshow(img[0], cmap = 'gray')\n",
        "print(\"Label:\", label, ',Predicted:', predict_image(img, model))\n",
        "\n"
      ],
      "metadata": {
        "colab": {
          "base_uri": "https://localhost:8080/",
          "height": 447
        },
        "id": "uoZVoAJtkYMO",
        "outputId": "fd625fea-4649-46b7-be10-f40d53080d9b"
      },
      "execution_count": null,
      "outputs": [
        {
          "output_type": "stream",
          "name": "stdout",
          "text": [
            "Label: 9 ,Predicted: 9\n"
          ]
        },
        {
          "output_type": "display_data",
          "data": {
            "text/plain": [
              "<Figure size 640x480 with 1 Axes>"
            ],
            "image/png": "[encoded data removed]"
          },
          "metadata": {}
        }
      ]
    },
    {
      "cell_type": "code",
      "source": [
        "\n",
        "\n",
        "img, label = test_dataset[25]\n",
        "plt.imshow(img[0], cmap = 'gray')\n",
        "print(\"Label:\", label, ',Predicted:', predict_image(img, model))\n",
        "\n"
      ],
      "metadata": {
        "colab": {
          "base_uri": "https://localhost:8080/",
          "height": 447
        },
        "id": "nbkhN81Skdmi",
        "outputId": "9f581f38-9cc6-4d04-ce74-5cef266d07fe"
      },
      "execution_count": null,
      "outputs": [
        {
          "output_type": "stream",
          "name": "stdout",
          "text": [
            "Label: 0 ,Predicted: 0\n"
          ]
        },
        {
          "output_type": "display_data",
          "data": {
            "text/plain": [
              "<Figure size 640x480 with 1 Axes>"
            ],
            "image/png": "[encoded data removed]"
          },
          "metadata": {}
        }
      ]
    },
    {
      "cell_type": "code",
      "source": [
        "img, label = test_dataset[5000]\n",
        "plt.imshow(img[0], cmap = 'gray')\n",
        "print(\"Label:\", label, ',Predicted:', predict_image(img, model))"
      ],
      "metadata": {
        "colab": {
          "base_uri": "https://localhost:8080/",
          "height": 447
        },
        "id": "JtstVIDPkhnt",
        "outputId": "cb7a8e65-bbc1-4ae8-9bcd-ef7b9c45942b"
      },
      "execution_count": null,
      "outputs": [
        {
          "output_type": "stream",
          "name": "stdout",
          "text": [
            "Label: 3 ,Predicted: 3\n"
          ]
        },
        {
          "output_type": "display_data",
          "data": {
            "text/plain": [
              "<Figure size 640x480 with 1 Axes>"
            ],
            "image/png": "[encoded data removed]"
          },
          "metadata": {}
        }
      ]
    },
    {
      "cell_type": "code",
      "source": [
        "test_loader = DataLoader(test_dataset, batch_size = 256)\n",
        "result = evaluate(model, test_loader)\n",
        "result\n"
      ],
      "metadata": {
        "colab": {
          "base_uri": "https://localhost:8080/"
        },
        "id": "CMUBov6Ikl8g",
        "outputId": "22eefa46-b972-47ca-f52f-f0a6e1959331"
      },
      "execution_count": null,
      "outputs": [
        {
          "output_type": "execute_result",
          "data": {
            "text/plain": [
              "{'val_loss': 0.6417335271835327, 'val_acc': 0.859570324420929}"
            ]
          },
          "metadata": {},
          "execution_count": 39
        }
      ]
    },
    {
      "cell_type": "code",
      "source": [
        "\n",
        "\n",
        "torch.save(model.state_dict(), 'mnist-logistic.pth')\n",
        "\n"
      ],
      "metadata": {
        "id": "oIMojxyKkqhJ"
      },
      "execution_count": null,
      "outputs": []
    },
    {
      "cell_type": "code",
      "source": [
        "\n",
        "\n",
        "model.state_dict()\n",
        "\n"
      ],
      "metadata": {
        "colab": {
          "base_uri": "https://localhost:8080/"
        },
        "id": "VMQwsuiJkulX",
        "outputId": "f94d2b3a-b149-4578-d2f0-8d25d17d54a7"
      },
      "execution_count": null,
      "outputs": [
        {
          "output_type": "execute_result",
          "data": {
            "text/plain": [
              "OrderedDict([('linear.weight',\n",
              "              tensor([[ 0.0077,  0.0117, -0.0037,  ...,  0.0202, -0.0178,  0.0114],\n",
              "                      [-0.0187,  0.0276,  0.0174,  ..., -0.0245, -0.0181, -0.0055],\n",
              "                      [-0.0320, -0.0309, -0.0166,  ..., -0.0266,  0.0034,  0.0237],\n",
              "                      ...,\n",
              "                      [-0.0175, -0.0289, -0.0094,  ...,  0.0030,  0.0210,  0.0285],\n",
              "                      [ 0.0114,  0.0326,  0.0033,  ...,  0.0323,  0.0157,  0.0144],\n",
              "                      [ 0.0114,  0.0078, -0.0137,  ...,  0.0038, -0.0060,  0.0074]])),\n",
              "             ('linear.bias',\n",
              "              tensor([-0.0157,  0.0777,  0.0066, -0.0202, -0.0090,  0.0229, -0.0104,  0.0292,\n",
              "                      -0.0789, -0.0177]))])"
            ]
          },
          "metadata": {},
          "execution_count": 41
        }
      ]
    },
    {
      "cell_type": "code",
      "source": [
        "model2 = MnistModel()\n",
        "model2.load_state_dict(torch.load('mnist-logistic.pth'))\n",
        "model2.state_dict()"
      ],
      "metadata": {
        "colab": {
          "base_uri": "https://localhost:8080/"
        },
        "id": "8vdYfh3dkwp-",
        "outputId": "4a90784f-12b0-481a-997d-b08a8be4fd09"
      },
      "execution_count": null,
      "outputs": [
        {
          "output_type": "execute_result",
          "data": {
            "text/plain": [
              "OrderedDict([('linear.weight',\n",
              "              tensor([[ 0.0077,  0.0117, -0.0037,  ...,  0.0202, -0.0178,  0.0114],\n",
              "                      [-0.0187,  0.0276,  0.0174,  ..., -0.0245, -0.0181, -0.0055],\n",
              "                      [-0.0320, -0.0309, -0.0166,  ..., -0.0266,  0.0034,  0.0237],\n",
              "                      ...,\n",
              "                      [-0.0175, -0.0289, -0.0094,  ...,  0.0030,  0.0210,  0.0285],\n",
              "                      [ 0.0114,  0.0326,  0.0033,  ...,  0.0323,  0.0157,  0.0144],\n",
              "                      [ 0.0114,  0.0078, -0.0137,  ...,  0.0038, -0.0060,  0.0074]])),\n",
              "             ('linear.bias',\n",
              "              tensor([-0.0157,  0.0777,  0.0066, -0.0202, -0.0090,  0.0229, -0.0104,  0.0292,\n",
              "                      -0.0789, -0.0177]))])"
            ]
          },
          "metadata": {},
          "execution_count": 42
        }
      ]
    },
    {
      "cell_type": "code",
      "source": [
        "test_loader = DataLoader(test_dataset, batch_size = 256)\n",
        "result = evaluate(model2, test_loader)\n",
        "result\n"
      ],
      "metadata": {
        "colab": {
          "base_uri": "https://localhost:8080/"
        },
        "id": "Vz5gbiRTk3GS",
        "outputId": "37714fe4-6e07-495a-eb3a-5f25aec4d29b"
      },
      "execution_count": null,
      "outputs": [
        {
          "output_type": "execute_result",
          "data": {
            "text/plain": [
              "{'val_loss': 0.6417335271835327, 'val_acc': 0.859570324420929}"
            ]
          },
          "metadata": {},
          "execution_count": 43
        }
      ]
    }
  ]
}